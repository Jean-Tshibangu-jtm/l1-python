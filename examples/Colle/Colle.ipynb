{
 "cells": [
  {
   "cell_type": "code",
   "execution_count": 1,
   "metadata": {},
   "outputs": [
    {
     "name": "stderr",
     "output_type": "stream",
     "text": [
      "Exception in Tkinter callback\n",
      "Traceback (most recent call last):\n",
      "  File \"C:\\Users\\jeanm\\miniconda3\\envs\\l1-python\\lib\\tkinter\\__init__.py\", line 1889, in __call__\n",
      "    try:\n",
      "KeyboardInterrupt\n"
     ]
    }
   ],
   "source": [
    "import tkinter as tk\n",
    "\n",
    "##################\n",
    "# Constantes\n",
    "\n",
    "LARGEUR = 600\n",
    "HAUTEUR = 400\n",
    "\n",
    "\n",
    "###################\n",
    "# Fonctions\n",
    "\n",
    "def creer_balle():\n",
    "    \"\"\"Dessine un disque bleu et retourne son identifiant\n",
    "     et les valeurs de déplacements dans une liste\"\"\"\n",
    "    x, y = LARGEUR // 2, HAUTEUR // 2\n",
    "    dx, dy = 3, 5\n",
    "    rayon = 20\n",
    "    cercle = canvas.create_oval((x-rayon, y-rayon),\n",
    "                                (x+rayon, y+rayon),\n",
    "                                fill=\"blue\")\n",
    "    return [cercle, dx, dy]\n",
    "\n",
    "\n",
    "def mouvement():\n",
    "    \"\"\"Déplace la balle et ré-appelle la fonction avec un compte-à-rebours\"\"\"\n",
    "    rebond()\n",
    "    canvas.move(balle[0], balle[1], balle[2])\n",
    "    canvas.after(20, mouvement)\n",
    "\n",
    "\n",
    "def rebond():\n",
    "    \"\"\"Fait rebondir la balle sur les bords du canevas\"\"\"\n",
    "    global balle\n",
    "    x0, y0, x1, y1 = canvas.coords(balle[0])\n",
    "    if x0 <= 0 or x1 >= 600:\n",
    "        balle[1] = -balle[1]\n",
    "    if y0 <= 0 or y1 >= 400:\n",
    "        balle[2] = -balle[2]\n",
    "\n",
    "\n",
    "######################\n",
    "# programme principal\n",
    "\n",
    "# création des widgets\n",
    "racine = tk.Tk()\n",
    "canvas = tk.Canvas(racine, bg=\"black\", width=LARGEUR, height=HAUTEUR)\n",
    "canvas.grid()\n",
    "\n",
    "# initialisation de la balle\n",
    "balle = creer_balle()\n",
    "\n",
    "# déplacement de la balle\n",
    "mouvement()\n",
    "\n",
    "# boucle principale\n",
    "racine.mainloop()\n"
   ]
  },
  {
   "cell_type": "code",
   "execution_count": null,
   "metadata": {},
   "outputs": [],
   "source": [
    "fic = open(\"essai\", \"w\")\n",
    "fic.write(\"hello world\")\n",
    "fic.close()"
   ]
  }
 ],
 "metadata": {
  "interpreter": {
   "hash": "49d2c453dfda59dbcd87464713a48b15d9630a5c24693d96d9a423ac18b8a083"
  },
  "kernelspec": {
   "display_name": "Python 3.9.7 64-bit ('l1-python': conda)",
   "language": "python",
   "name": "python3"
  },
  "language_info": {
   "codemirror_mode": {
    "name": "ipython",
    "version": 3
   },
   "file_extension": ".py",
   "mimetype": "text/x-python",
   "name": "python",
   "nbconvert_exporter": "python",
   "pygments_lexer": "ipython3",
   "version": "3.9.7"
  },
  "orig_nbformat": 4
 },
 "nbformat": 4,
 "nbformat_minor": 2
}
