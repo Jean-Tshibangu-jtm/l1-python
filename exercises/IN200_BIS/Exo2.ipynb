{
 "cells": [
  {
   "cell_type": "code",
   "execution_count": null,
   "metadata": {},
   "outputs": [],
   "source": [
    "# 2.1.Ecrire la fonction def nb_lignes(nom_fichier)"
   ]
  },
  {
   "cell_type": "code",
   "execution_count": 27,
   "metadata": {},
   "outputs": [
    {
     "data": {
      "text/plain": [
       "370103"
      ]
     },
     "execution_count": 27,
     "metadata": {},
     "output_type": "execute_result"
    }
   ],
   "source": [
    "# 2.1.Ecrire la fonction def nb_lignes(nom_fichier)\n",
    "def nb_lignes(nom_fichier):\n",
    "    fichier = open(nom_fichier, \"r\")\n",
    "    lines = fichier.readlines()\n",
    "    return(len(lines))\n",
    "nb_lignes(\"words.txt\")"
   ]
  },
  {
   "cell_type": "code",
   "execution_count": 28,
   "metadata": {},
   "outputs": [],
   "source": [
    "# 2.2.Ecrire la fonction def ecrit_liste_mots(n)\n",
    "\n",
    "def ecrit_liste_mots(n):\n",
    "    fichier1 = open(\"words.txt\", \"r\")\n",
    "    fichier2 = open(f\"words{n}.txt\", \"w\")\n",
    "    while(True):\n",
    "        new_line = fichier1.readline()\n",
    "        if(new_line == \"\"):\n",
    "            break\n",
    "        if(len(new_line) == n+1):\n",
    "            fichier2.write(f\"{new_line}\")\n",
    "    fichier1.close()\n",
    "    fichier2.close()\n",
    "    pass"
   ]
  },
  {
   "cell_type": "code",
   "execution_count": 31,
   "metadata": {},
   "outputs": [],
   "source": [
    "ecrit_liste_mots(5)"
   ]
  },
  {
   "cell_type": "code",
   "execution_count": 34,
   "metadata": {},
   "outputs": [
    {
     "data": {
      "text/plain": [
       "15918"
      ]
     },
     "execution_count": 34,
     "metadata": {},
     "output_type": "execute_result"
    }
   ],
   "source": [
    "nb_lignes('words5.txt')"
   ]
  },
  {
   "cell_type": "code",
   "execution_count": 56,
   "metadata": {},
   "outputs": [],
   "source": [
    "# 2.3.Ecrire la fonction def melange_mots(fichier)\n",
    "import random \n",
    "\n",
    "def melange_mots(nom_fichier):\n",
    "    fichier1 = open(f\"{nom_fichier}.txt\", \"r\")\n",
    "    #fichier1 = open(\"nom_fichier.txt\", \"r\")\n",
    "   # fichier2 = open(\"nom_fichier.mel\", \"w\")\n",
    "    fichier2 = open(f\"{nom_fichier}.mel\", \"w\")\n",
    "    mots1 = fichier1.readlines()\n",
    "    random.shuffle(mots1)\n",
    "    fichier1.close()\n",
    "    for mot in mots1:\n",
    "        fichier2.write(mot)\n",
    "    fichier2.close()\n",
    "melange_mots('words')\n"
   ]
  },
  {
   "cell_type": "code",
   "execution_count": 72,
   "metadata": {},
   "outputs": [],
   "source": [
    "# 2.4.Ecrire la fonction def compare_mots(m1, m2)\n",
    "\n",
    "def compare_mots(m1, m2):\n",
    "    profil = []\n",
    "    m1 = m1.strip(\"\\n\")\n",
    "    n = len(m1)\n",
    "    copy_m2 = list(m2)\n",
    "    for i in range(0, n):\n",
    "        if(m1[i] == m2[i]):\n",
    "            profil.append(1)\n",
    "        elif(m1[i] in copy_m2):\n",
    "            profil.append(2)\n",
    "            copy_m2.remove(m1[i])\n",
    "        else:\n",
    "            profil.append(0)\n",
    "    return profil\n"
   ]
  },
  {
   "cell_type": "code",
   "execution_count": 86,
   "metadata": {},
   "outputs": [
    {
     "data": {
      "text/plain": [
       "[0, 1, 1, 0]"
      ]
     },
     "execution_count": 86,
     "metadata": {},
     "output_type": "execute_result"
    }
   ],
   "source": [
    "compare_mots(\"Pean\",\"jeat\")"
   ]
  },
  {
   "cell_type": "code",
   "execution_count": 75,
   "metadata": {},
   "outputs": [],
   "source": [
    "# 2.5.Ecrire la fonction def ecrit_liste_compatible(fic, m, profil)\n",
    "def ecrit_liste_compatible(fic, m, profil):\n",
    "    fichier1 = open(f\"{fic}.txt\", \"r\")\n",
    "    fichier2 = open(f\"{fic}.comp\", \"w\")\n",
    "    mots = fichier1.readlines()\n",
    "    for m2 in mots:\n",
    "        if(compare_mots(m, m2) == profil):\n",
    "            fichier2.write(m2)\n",
    "    fichier1.close()\n",
    "    fichier2.close()"
   ]
  },
  {
   "cell_type": "code",
   "execution_count": 90,
   "metadata": {},
   "outputs": [
    {
     "ename": "SyntaxError",
     "evalue": "invalid syntax (Temp/ipykernel_19068/2344486663.py, line 1)",
     "output_type": "error",
     "traceback": [
      "\u001b[1;36m  File \u001b[1;32m\"C:\\Users\\jeanm\\AppData\\Local\\Temp/ipykernel_19068/2344486663.py\"\u001b[1;36m, line \u001b[1;32m1\u001b[0m\n\u001b[1;33m    ecrit_liste_compatible(\"words\",\"jean\",\"compare_mots(\"Pean\",\"jeat\")\")\u001b[0m\n\u001b[1;37m                                                         ^\u001b[0m\n\u001b[1;31mSyntaxError\u001b[0m\u001b[1;31m:\u001b[0m invalid syntax\n"
     ]
    }
   ],
   "source": [
    "ecrit_liste_compatible(\"words\",\"jean\",\"compare_mots(\"Pean\",\"jean\")\")"
   ]
  },
  {
   "cell_type": "code",
   "execution_count": null,
   "metadata": {},
   "outputs": [],
   "source": []
  },
  {
   "cell_type": "code",
   "execution_count": null,
   "metadata": {},
   "outputs": [],
   "source": []
  },
  {
   "cell_type": "code",
   "execution_count": null,
   "metadata": {},
   "outputs": [],
   "source": []
  },
  {
   "cell_type": "code",
   "execution_count": 13,
   "metadata": {},
   "outputs": [
    {
     "ename": "PermissionError",
     "evalue": "[Errno 13] Permission denied: '.'",
     "output_type": "error",
     "traceback": [
      "\u001b[1;31m---------------------------------------------------------------------------\u001b[0m",
      "\u001b[1;31mPermissionError\u001b[0m                           Traceback (most recent call last)",
      "\u001b[1;32m~\\AppData\\Local\\Temp/ipykernel_19068/3711456522.py\u001b[0m in \u001b[0;36m<module>\u001b[1;34m\u001b[0m\n\u001b[1;32m----> 1\u001b[1;33m \u001b[0mnb_lignes\u001b[0m\u001b[1;33m(\u001b[0m\u001b[1;34m\".\"\u001b[0m\u001b[1;33m)\u001b[0m\u001b[1;33m\u001b[0m\u001b[1;33m\u001b[0m\u001b[0m\n\u001b[0m",
      "\u001b[1;32m~\\AppData\\Local\\Temp/ipykernel_19068/3543883563.py\u001b[0m in \u001b[0;36mnb_lignes\u001b[1;34m(nom_fichier)\u001b[0m\n\u001b[0;32m      1\u001b[0m \u001b[1;31m# 2.1.Ecrire la fonction def nb_lignes(nom_fichier)\u001b[0m\u001b[1;33m\u001b[0m\u001b[1;33m\u001b[0m\u001b[0m\n\u001b[0;32m      2\u001b[0m \u001b[1;32mdef\u001b[0m \u001b[0mnb_lignes\u001b[0m\u001b[1;33m(\u001b[0m\u001b[0mnom_fichier\u001b[0m\u001b[1;33m)\u001b[0m\u001b[1;33m:\u001b[0m\u001b[1;33m\u001b[0m\u001b[1;33m\u001b[0m\u001b[0m\n\u001b[1;32m----> 3\u001b[1;33m     \u001b[0mfichier\u001b[0m \u001b[1;33m=\u001b[0m \u001b[0mopen\u001b[0m\u001b[1;33m(\u001b[0m\u001b[0mnom_fichier\u001b[0m\u001b[1;33m,\u001b[0m \u001b[1;34m\"r\"\u001b[0m\u001b[1;33m)\u001b[0m\u001b[1;33m\u001b[0m\u001b[1;33m\u001b[0m\u001b[0m\n\u001b[0m\u001b[0;32m      4\u001b[0m     \u001b[0mlines\u001b[0m \u001b[1;33m=\u001b[0m \u001b[0mfichier\u001b[0m\u001b[1;33m.\u001b[0m\u001b[0mreadlines\u001b[0m\u001b[1;33m(\u001b[0m\u001b[1;33m)\u001b[0m\u001b[1;33m\u001b[0m\u001b[1;33m\u001b[0m\u001b[0m\n\u001b[0;32m      5\u001b[0m     \u001b[1;32mreturn\u001b[0m\u001b[1;33m(\u001b[0m\u001b[0mlen\u001b[0m\u001b[1;33m(\u001b[0m\u001b[0mlines\u001b[0m\u001b[1;33m)\u001b[0m\u001b[1;33m)\u001b[0m\u001b[1;33m\u001b[0m\u001b[1;33m\u001b[0m\u001b[0m\n",
      "\u001b[1;31mPermissionError\u001b[0m: [Errno 13] Permission denied: '.'"
     ]
    }
   ],
   "source": [
    "C:\\Users\\jeanm\\Documents\\UVSQ\\TDs\\l1-python\\exercises\\IN200_BIS\\words.txt"
   ]
  }
 ],
 "metadata": {
  "interpreter": {
   "hash": "49d2c453dfda59dbcd87464713a48b15d9630a5c24693d96d9a423ac18b8a083"
  },
  "kernelspec": {
   "display_name": "Python 3.9.7 64-bit ('l1-python': conda)",
   "language": "python",
   "name": "python3"
  },
  "language_info": {
   "codemirror_mode": {
    "name": "ipython",
    "version": 3
   },
   "file_extension": ".py",
   "mimetype": "text/x-python",
   "name": "python",
   "nbconvert_exporter": "python",
   "pygments_lexer": "ipython3",
   "version": "3.9.7"
  },
  "orig_nbformat": 4
 },
 "nbformat": 4,
 "nbformat_minor": 2
}
