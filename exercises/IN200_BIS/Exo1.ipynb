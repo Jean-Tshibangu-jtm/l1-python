{
 "cells": [
  {
   "cell_type": "code",
   "execution_count": 12,
   "metadata": {},
   "outputs": [],
   "source": [
    "import random\n",
    "\n",
    "############################\n",
    "#       Exercice 1         #\n",
    "############################\n",
    "\n",
    "\n",
    "def exercice_1():\n",
    "    list_notes = []\n",
    "    # On ouvre le fichier\n",
    "    notes = open(\"notes.txt\", \"r\")\n",
    "    while(True):\n",
    "        # On lit les lignes\n",
    "        new_line = notes.readline()\n",
    "        # Si on lit une ligne vide, o arrette\n",
    "        if(new_line == \"\"):\n",
    "            break\n",
    "        # on split la ligne dans une liste\n",
    "        splitted_line = new_line.split()\n",
    "        sum_notes = 0\n",
    "        # on fait la somme\n",
    "        for i in range(1, len(splitted_line)):\n",
    "            sum_notes += int((splitted_line[i]))\n",
    "        # on fait la moyenne\n",
    "        mean_notes = sum_notes / (i)\n",
    "        # on ajoute la moyenne à la fin de notre ligne\n",
    "        splitted_line.append(mean_notes)\n",
    "        # on ajoute cette liste à notre liste de listes\n",
    "        list_notes.append(splitted_line)\n",
    "    # On pense bien à fermer le fichier\n",
    "    notes.close()\n",
    "    # On ré-écrit nos notes dans le fichier\n",
    "    ecrire_notes = open(\"new_notes.txt\", \"w\")\n",
    "    for listes in list_notes:\n",
    "        for elem in listes:\n",
    "            # On re-écrit les éléements de notre liste\n",
    "            ecrire_notes.write(f\"{elem} \")\n",
    "        # On oublie pas le retour à la ligne\n",
    "        ecrire_notes.write(\"\\n\")\n",
    "        \n",
    "    ecrire_notes.close()\n",
    "\n"
   ]
  },
  {
   "cell_type": "code",
   "execution_count": null,
   "metadata": {},
   "outputs": [],
   "source": [
    "exercice_1()"
   ]
  },
  {
   "cell_type": "code",
   "execution_count": 8,
   "metadata": {},
   "outputs": [
    {
     "name": "stdout",
     "output_type": "stream",
     "text": [
      "Tata 15 5 1 7.0 \n",
      "\n",
      "Tete 10 8 19 12.333333333333334 \n",
      "\n",
      "Titi 3 9 7 6.333333333333333 \n",
      "\n",
      "Toto 15 17 11 14.333333333333334 \n",
      "\n",
      "Tutu 9 10 12 10.333333333333334 \n",
      "\n"
     ]
    }
   ],
   "source": [
    "notes_new = open(\"new_notes.txt\", \"r\")\n",
    "\n",
    "for ligne in notes_new:\n",
    "\n",
    "    print(ligne)\n",
    "\n",
    "notes_new.close()\n"
   ]
  },
  {
   "cell_type": "code",
   "execution_count": 3,
   "metadata": {},
   "outputs": [],
   "source": [
    "\n",
    "\n",
    "############################\n",
    "#       Exercice 2        #\n",
    "############################"
   ]
  },
  {
   "cell_type": "code",
   "execution_count": null,
   "metadata": {},
   "outputs": [],
   "source": []
  }
 ],
 "metadata": {
  "interpreter": {
   "hash": "49d2c453dfda59dbcd87464713a48b15d9630a5c24693d96d9a423ac18b8a083"
  },
  "kernelspec": {
   "display_name": "Python 3.9.7 64-bit ('l1-python': conda)",
   "language": "python",
   "name": "python3"
  },
  "language_info": {
   "codemirror_mode": {
    "name": "ipython",
    "version": 3
   },
   "file_extension": ".py",
   "mimetype": "text/x-python",
   "name": "python",
   "nbconvert_exporter": "python",
   "pygments_lexer": "ipython3",
   "version": "3.9.7"
  },
  "orig_nbformat": 4
 },
 "nbformat": 4,
 "nbformat_minor": 2
}
