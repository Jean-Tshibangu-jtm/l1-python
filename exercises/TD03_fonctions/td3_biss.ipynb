{
 "cells": [
  {
   "cell_type": "code",
   "execution_count": 2,
   "metadata": {},
   "outputs": [
    {
     "ename": "SyntaxError",
     "evalue": "invalid syntax (Temp/ipykernel_18328/1888391117.py, line 7)",
     "output_type": "error",
     "traceback": [
      "\u001b[1;36m  File \u001b[1;32m\"C:\\Users\\jeanm\\AppData\\Local\\Temp/ipykernel_18328/1888391117.py\"\u001b[1;36m, line \u001b[1;32m7\u001b[0m\n\u001b[1;33m    temps = (3,23,1,34)\u001b[0m\n\u001b[1;37m    ^\u001b[0m\n\u001b[1;31mSyntaxError\u001b[0m\u001b[1;31m:\u001b[0m invalid syntax\n"
     ]
    }
   ],
   "source": [
    "def tempsEnSeconde(temps):\n",
    "    \"\"\" Renvoie la valeur en seconde de temps donné comme jour, heure, minute, seconde.\"\"\"\n",
    "    return temps[0]*24*3600+ temps[1]*3600+temps[2]*60+temps[3]\n",
    "\n",
    "\n",
    "\n",
    "temps = (3,23,1,34)\n",
    "print(type(temps))\n",
    "print(tempsEnSeconde(temps))   "
   ]
  }
 ],
 "metadata": {
  "interpreter": {
   "hash": "49d2c453dfda59dbcd87464713a48b15d9630a5c24693d96d9a423ac18b8a083"
  },
  "kernelspec": {
   "display_name": "Python 3.9.7 64-bit ('l1-python': conda)",
   "name": "python3"
  },
  "language_info": {
   "codemirror_mode": {
    "name": "ipython",
    "version": 3
   },
   "file_extension": ".py",
   "mimetype": "text/x-python",
   "name": "python",
   "nbconvert_exporter": "python",
   "pygments_lexer": "ipython3",
   "version": "3.9.7"
  },
  "orig_nbformat": 4
 },
 "nbformat": 4,
 "nbformat_minor": 2
}
