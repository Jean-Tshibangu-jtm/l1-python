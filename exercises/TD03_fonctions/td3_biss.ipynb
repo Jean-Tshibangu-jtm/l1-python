{
 "cells": [
  {
   "cell_type": "code",
   "execution_count": 29,
   "metadata": {},
   "outputs": [
    {
     "name": "stdout",
     "output_type": "stream",
     "text": [
      "              x               \n",
      "             xxx              \n",
      "            xxxxx             \n",
      "           xxxxxxx            \n",
      "          xxxxxxxxx           \n",
      "         xxxxxxxxxxx          \n",
      "        xxxxxxxxxxxxx         \n",
      "       xxxxxxxxxxxxxxx        \n",
      "      xxxxxxxxxxxxxxxxx       \n",
      "     xxxxxxxxxxxxxxxxxxx      \n",
      "            xxxxx             \n",
      "         Joyeux Noël       \n"
     ]
    }
   ],
   "source": []
  },
  {
   "cell_type": "code",
   "execution_count": 30,
   "metadata": {},
   "outputs": [
    {
     "name": "stdout",
     "output_type": "stream",
     "text": [
      "              x               \n",
      "             xxx              \n",
      "            xxxxx             \n",
      "           xxxxxxx            \n",
      "          xxxxxxxxx           \n",
      "         xxxxxxxxxxx          \n",
      "        xxxxxxxxxxxxx         \n",
      "       xxxxxxxxxxxxxxx        \n",
      "      xxxxxxxxxxxxxxxxx       \n",
      "     xxxxxxxxxxxxxxxxxxx      \n",
      "            xxxxx             \n",
      "         Joyeux Noël       \n"
     ]
    }
   ],
   "source": [
    "for jtm in [*range(10)] + [2] :\n",
    "    print(f'{\"x\"*(jtm*2+1):^30}')\n",
    "\n",
    "print(\"         Joyeux Noël       \")"
   ]
  },
  {
   "cell_type": "code",
   "execution_count": null,
   "metadata": {},
   "outputs": [],
   "source": []
  },
  {
   "cell_type": "code",
   "execution_count": null,
   "metadata": {},
   "outputs": [],
   "source": []
  },
  {
   "cell_type": "code",
   "execution_count": null,
   "metadata": {},
   "outputs": [],
   "source": []
  },
  {
   "cell_type": "code",
   "execution_count": null,
   "metadata": {},
   "outputs": [],
   "source": []
  },
  {
   "cell_type": "code",
   "execution_count": null,
   "metadata": {},
   "outputs": [],
   "source": []
  },
  {
   "cell_type": "code",
   "execution_count": 4,
   "metadata": {},
   "outputs": [
    {
     "name": "stdout",
     "output_type": "stream",
     "text": [
      "<class 'tuple'>\n",
      "342094\n"
     ]
    }
   ],
   "source": [
    "def tempsEnSeconde(temps):\n",
    "    \"\"\" Renvoie la valeur en seconde de temps donné comme jour, heure, minute, seconde.\"\"\"\n",
    "    return temps[0]*24*3600+ temps[1]*3600+temps[2]*60+temps[3]\n",
    "\n",
    "\n",
    "\n",
    "temps = (3,23,1,34)\n",
    "print(type(temps))\n",
    "print(tempsEnSeconde(temps))   "
   ]
  },
  {
   "cell_type": "code",
   "execution_count": 16,
   "metadata": {},
   "outputs": [
    {
     "ename": "SyntaxError",
     "evalue": "invalid syntax (Temp/ipykernel_18328/3107609584.py, line 1)",
     "output_type": "error",
     "traceback": [
      "\u001b[1;36m  File \u001b[1;32m\"C:\\Users\\jeanm\\AppData\\Local\\Temp/ipykernel_18328/3107609584.py\"\u001b[1;36m, line \u001b[1;32m1\u001b[0m\n\u001b[1;33m    import = \"info \"\u001b[0m\n\u001b[1;37m           ^\u001b[0m\n\u001b[1;31mSyntaxError\u001b[0m\u001b[1;31m:\u001b[0m invalid syntax\n"
     ]
    }
   ],
   "source": [
    "import = \"info \"\n",
    "\n",
    "print(len(int))\n"
   ]
  }
 ],
 "metadata": {
  "interpreter": {
   "hash": "49d2c453dfda59dbcd87464713a48b15d9630a5c24693d96d9a423ac18b8a083"
  },
  "kernelspec": {
   "display_name": "Python 3.9.7 64-bit ('l1-python': conda)",
   "name": "python3"
  },
  "language_info": {
   "codemirror_mode": {
    "name": "ipython",
    "version": 3
   },
   "file_extension": ".py",
   "mimetype": "text/x-python",
   "name": "python",
   "nbconvert_exporter": "python",
   "pygments_lexer": "ipython3",
   "version": "3.9.7"
  },
  "orig_nbformat": 4
 },
 "nbformat": 4,
 "nbformat_minor": 2
}
