{
 "cells": [
  {
   "cell_type": "code",
   "execution_count": 21,
   "metadata": {},
   "outputs": [
    {
     "name": "stdout",
     "output_type": "stream",
     "text": [
      "3\n"
     ]
    }
   ],
   "source": [
    "def incremente(x):\n",
    "    x +=  1\n",
    "    z = 2\n",
    "    print(x)\n",
    "\n",
    "incremente(2)\n"
   ]
  },
  {
   "cell_type": "code",
   "execution_count": 36,
   "metadata": {},
   "outputs": [
    {
     "name": "stdout",
     "output_type": "stream",
     "text": [
      "<class 'int'> 0\n",
      "<class 'NoneType'> None\n"
     ]
    }
   ],
   "source": [
    "def avec_retour(x):\n",
    "    return x\n",
    "\n",
    "def sans_retour(x):\n",
    "    x = x + 1\n",
    "    \n",
    "print(type(avec_retour(0)),avec_retour(0))\n",
    "print(type(sans_retour(0)),sans_retour(0))"
   ]
  },
  {
   "cell_type": "code",
   "execution_count": 52,
   "metadata": {},
   "outputs": [
    {
     "name": "stdout",
     "output_type": "stream",
     "text": [
      "(5, 9)\n"
     ]
    }
   ],
   "source": [
    "def ordonne(a, b):\n",
    "    if a < b:\n",
    "        return a, b\n",
    "    else:\n",
    "        return b, a\n",
    "    \n",
    "print(ordonne(9, 5))"
   ]
  },
  {
   "cell_type": "code",
   "execution_count": 61,
   "metadata": {},
   "outputs": [
    {
     "name": "stdout",
     "output_type": "stream",
     "text": [
      "0\n"
     ]
    }
   ],
   "source": [
    "def incremente(x):\n",
    "    x += 1\n",
    "    \n",
    "y = 0\n",
    "incremente(y)\n",
    "print(y)"
   ]
  },
  {
   "cell_type": "code",
   "execution_count": 63,
   "metadata": {},
   "outputs": [
    {
     "name": "stdout",
     "output_type": "stream",
     "text": [
      "[4, 10, 6]\n"
     ]
    }
   ],
   "source": [
    "# Référence sur une liste, on peut modifier son contenu (objet mutable)  \n",
    "def incrementeListe(l):\n",
    "    for i in range(len(l)):\n",
    "        l[i] += 1\n",
    "\n",
    "l = [3,9,5]\n",
    "incrementeListe(l)\n",
    "print(l)"
   ]
  },
  {
   "cell_type": "code",
   "execution_count": 90,
   "metadata": {},
   "outputs": [
    {
     "name": "stdout",
     "output_type": "stream",
     "text": [
      "Bonjour\n"
     ]
    }
   ],
   "source": [
    "def salutation (sal) :\n",
    "    if sal==1 :\n",
    "        print(\"Bonjour\")\n",
    "        \n",
    "    else:\n",
    "        print(\"Bonsoir\")\n",
    "\n",
    "Val =1\n",
    "salutation(Val)\n"
   ]
  },
  {
   "cell_type": "code",
   "execution_count": 94,
   "metadata": {},
   "outputs": [
    {
     "name": "stdout",
     "output_type": "stream",
     "text": [
      "1\n",
      "4\n"
     ]
    }
   ],
   "source": [
    "\n",
    "x = 1\n",
    "print(x)\n",
    "\n",
    "def affiche(): #utilisation d'une variable globale\n",
    "    print(x)\n",
    "    \n",
    "x += 3\n",
    "affiche()"
   ]
  },
  {
   "cell_type": "code",
   "execution_count": 85,
   "metadata": {},
   "outputs": [
    {
     "name": "stdout",
     "output_type": "stream",
     "text": [
      "[3, 4, 5]\n"
     ]
    }
   ],
   "source": [
    "\n",
    "# Référence sur une liste, on ne peut pas modifier la liste elle même\n",
    "def supprimeListe(l):\n",
    "    l = []\n",
    "    return l\n",
    "l = [3,4,5]\n",
    "supprimeListe(l)\n",
    "print(l)"
   ]
  },
  {
   "cell_type": "code",
   "execution_count": 111,
   "metadata": {},
   "outputs": [
    {
     "name": "stdout",
     "output_type": "stream",
     "text": [
      "4\n",
      "8\n"
     ]
    }
   ],
   "source": [
    "\n",
    "x = 1\n",
    "\n",
    "\n",
    "def affiche(): #utilisation d'une variable globale\n",
    "    print(x)\n",
    "    \n",
    "x += 3\n",
    "\n",
    "\n",
    "def ajoute(): #modification d'une variable globale\n",
    "    x += 1\n",
    "\n",
    "def multiplie():  #modification d'une variable globale en précisant qu'elle est globale dans le code\n",
    "    global x\n",
    "    x *= 2\n",
    "    print(x)\n",
    "\n",
    "affiche()\n",
    "multiplie()"
   ]
  },
  {
   "cell_type": "code",
   "execution_count": 119,
   "metadata": {},
   "outputs": [
    {
     "name": "stdout",
     "output_type": "stream",
     "text": [
      "toto  a  1 ans et vit en  france\n",
      "kurt  a  18 ans et vit en  allemagne\n",
      "YAYA  a  1 ans et vit en  italie\n"
     ]
    }
   ],
   "source": [
    "def ma_fonction(pays, age = 1, nom = \"toto\"):\n",
    "    print(nom,\" a \", age, \"ans et vit en \", pays)\n",
    "    \n",
    "ma_fonction(\"france\")\n",
    "ma_fonction(\"allemagne\", 18, \"kurt\")\n",
    "ma_fonction(nom =\"YAYA\", pays=\"italie\")"
   ]
  },
  {
   "cell_type": "code",
   "execution_count": 122,
   "metadata": {},
   "outputs": [
    {
     "ename": "SyntaxError",
     "evalue": "invalid syntax (Temp/ipykernel_1212/2081442013.py, line 1)",
     "output_type": "error",
     "traceback": [
      "\u001b[1;36m  File \u001b[1;32m\"C:\\Users\\jeanm\\AppData\\Local\\Temp/ipykernel_1212/2081442013.py\"\u001b[1;36m, line \u001b[1;32m1\u001b[0m\n\u001b[1;33m    g = lambda (x,y): x*2*y\u001b[0m\n\u001b[1;37m               ^\u001b[0m\n\u001b[1;31mSyntaxError\u001b[0m\u001b[1;31m:\u001b[0m invalid syntax\n"
     ]
    }
   ],
   "source": [
    "\n",
    "g = lambda x: x*2  \n",
    "\n",
    "print(g(7))"
   ]
  }
 ],
 "metadata": {
  "interpreter": {
   "hash": "49d2c453dfda59dbcd87464713a48b15d9630a5c24693d96d9a423ac18b8a083"
  },
  "kernelspec": {
   "display_name": "Python 3.9.7 64-bit ('l1-python': conda)",
   "name": "python3"
  },
  "language_info": {
   "codemirror_mode": {
    "name": "ipython",
    "version": 3
   },
   "file_extension": ".py",
   "mimetype": "text/x-python",
   "name": "python",
   "nbconvert_exporter": "python",
   "pygments_lexer": "ipython3",
   "version": "3.9.7"
  },
  "orig_nbformat": 4
 },
 "nbformat": 4,
 "nbformat_minor": 2
}
