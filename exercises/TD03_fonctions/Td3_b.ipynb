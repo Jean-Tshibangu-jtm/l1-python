{
 "cells": [
  {
   "cell_type": "code",
   "execution_count": 5,
   "metadata": {},
   "outputs": [],
   "source": [
    "\n",
    "n1=5\n",
    "n2=2\n",
    "\n",
    "def addition(n1, n2) :\n",
    "    res=n1+n2\n",
    "    return res\n",
    "\n",
    "\n",
    "addition(n1,n2)\n"
   ]
  },
  {
   "cell_type": "code",
   "execution_count": null,
   "metadata": {},
   "outputs": [],
   "source": [
    "def tempsEnSeconde(temps):\n",
    "    \"\"\" Renvoie la valeur en seconde de temps donné comme jour, heure, minute, seconde.\"\"\"\n",
    "    pass\n",
    "\n",
    "temps = (3,23,1,34)"
   ]
  },
  {
   "cell_type": "code",
   "execution_count": 22,
   "metadata": {},
   "outputs": [],
   "source": [
    "n1=2\n",
    "n2=8\n",
    "\n",
    "def multiplication(toto,tata) :\n",
    "    \n",
    "    produit = n1*n2\n",
    "    \n",
    "    return produit\n",
    "    \n",
    "\n",
    "multiplication(n1,n2)"
   ]
  },
  {
   "cell_type": "code",
   "execution_count": 43,
   "metadata": {},
   "outputs": [
    {
     "name": "stdout",
     "output_type": "stream",
     "text": [
      "<class 'tuple'>\n",
      "3 jours 23 heures 1 minutes 34 secondes\n"
     ]
    }
   ],
   "source": [
    "\n",
    "def secondeEnTemps(seconde):\n",
    "    \"\"\"Renvoie le temps (jour, heure, minute, seconde) qui correspond au nombre de seconde passé en argument\"\"\"\n",
    "    minute = seconde // 60\n",
    "    seconde %= 60\n",
    "    heure = minute // 60\n",
    "    minute %= 60\n",
    "    jour = heure // 24\n",
    "    heure %= 24\n",
    "    return (jour, heure, minute, seconde)\n",
    "    \n",
    "temps = secondeEnTemps(342094)\n",
    "print(type(temps))\n",
    "print(temps[0],\"jours\",temps[1],\"heures\",temps[2],\"minutes\",temps[3],\"secondes\")"
   ]
  },
  {
   "cell_type": "code",
   "execution_count": 45,
   "metadata": {},
   "outputs": [
    {
     "name": "stdout",
     "output_type": "stream",
     "text": [
      "  2 jours  1 heure  14 minutes  23 secondes\n"
     ]
    }
   ],
   "source": [
    "def affichePluriel(val,mot):\n",
    "    if val != 0:\n",
    "        print(\" \",val,mot,end = \"\")\n",
    "    if val > 1:\n",
    "        print(\"s\",end = \"\")\n",
    "\n",
    "def afficheTemps(temps):\n",
    "    affichePluriel(temps[0],\"jour\")\n",
    "    affichePluriel(temps[1],\"heure\")\n",
    "    affichePluriel(temps[2],\"minute\")\n",
    "    affichePluriel(temps[3],\"seconde\")\n",
    "    print(\"\")\n",
    "    \n",
    "afficheTemps((2,1,14,23))  "
   ]
  }
 ],
 "metadata": {
  "interpreter": {
   "hash": "49d2c453dfda59dbcd87464713a48b15d9630a5c24693d96d9a423ac18b8a083"
  },
  "kernelspec": {
   "display_name": "Python 3.9.7 64-bit ('l1-python': conda)",
   "language": "python",
   "name": "python3"
  },
  "language_info": {
   "codemirror_mode": {
    "name": "ipython",
    "version": 3
   },
   "file_extension": ".py",
   "mimetype": "text/x-python",
   "name": "python",
   "nbconvert_exporter": "python",
   "pygments_lexer": "ipython3",
   "version": "3.9.7"
  },
  "orig_nbformat": 4
 },
 "nbformat": 4,
 "nbformat_minor": 2
}
