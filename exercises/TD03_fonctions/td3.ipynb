{
 "cells": [
  {
   "cell_type": "code",
   "execution_count": 25,
   "metadata": {},
   "outputs": [
    {
     "name": "stdout",
     "output_type": "stream",
     "text": [
      "  4 jours  5 heures  4 minutes  4 secondes\n"
     ]
    }
   ],
   "source": []
  },
  {
   "cell_type": "markdown",
   "metadata": {},
   "source": [
    "# Gestion du temps\n",
    "\n",
    "Nous allons créer un petit logiciel de gestion du temps et des dates.\n",
    "Pour cela nous aurons besoin de créer un certain nombre de fonctions utilitaires.\n",
    "\n",
    "Un temps a le format suivant: (jour: int, heure: int, minute: int, seconde: int).\n",
    "C'est un tuple de 4 éléments. Par exemple (4, 3, 13, 20) correspond à 4 jours, 3 heures, 13 minutes et 20 secondes.\n",
    "Si on a une variable temps = (4, 3, 13, 20), pour accéder au premier élément on fait temps\\[0\\] ce qui donne 4,\n",
    "le nombre de jours.\n",
    "\n",
    "Créer la fonction qui prend comme argument le temps et renvoie le nombre de seconde total correspondant à ce temps.\n",
    "Créer la fonction qui prend un nombre de secondes et renvoie le temps correspondant."
   ]
  },
  {
   "cell_type": "code",
   "execution_count": 21,
   "metadata": {},
   "outputs": [
    {
     "name": "stdout",
     "output_type": "stream",
     "text": [
      "<class 'tuple'>\n",
      "342094\n",
      "3 jours 23 heures 1 minutes 34 secondes\n"
     ]
    }
   ],
   "source": [
    "def tempsEnSeconde(temps):\n",
    "    \"\"\" Renvoie la valeur en seconde de temps donné comme jour, heure, minute, seconde.\"\"\"\n",
    "    nom =\"toto\"\n",
    "    return (((temps[0] * 24) + temps[1])*60 + temps[2])*60 + temps[3]\n",
    "\n",
    "temps = (3,23,1,34)\n",
    "nom = \"Toto\"\n",
    "print(type(temps))\n",
    "print(tempsEnSeconde(temps))  \n",
    "\n",
    "\n",
    "\n",
    "def secondeEnTemps(seconde):\n",
    "    \"\"\"Renvoie le temps (jour, heure, minute, seconde) qui correspond au nombre de seconde passé en argument\"\"\"\n",
    "    minute = seconde // 60\n",
    "    seconde %= 60\n",
    "    heure = minute // 60\n",
    "    minute %= 60\n",
    "    jour = heure // 24\n",
    "    heure %= 24\n",
    "    return (jour, heure, minute, seconde)\n",
    "    \n",
    "temps = secondeEnTemps(342094)\n",
    "print(temps[0],\"jours\",temps[1],\"heures\",temps[2],\"minutes\",temps[3],\"secondes\")\n",
    "\n",
    "\n"
   ]
  },
  {
   "cell_type": "markdown",
   "metadata": {},
   "source": [
    "Créer une fonction d'affichage d'un temps `afficheTemps`. Attention, les mots jour, heure et seconde doivent être au pluriel s'il y en a plusieurs. S'il y en a zéro, ils ne doivent pas apparaître.\n",
    "`print(message, end=\"\")` permet de ne pas sauter une ligne après un print. \n",
    "Vous pouvez écrire une fonction qui affiche un mot au pluriel ou non, appelée ensuite plusieurs fois par `afficheTemps` pour simplifier votre code.\n"
   ]
  },
  {
   "cell_type": "code",
   "execution_count": 35,
   "metadata": {},
   "outputs": [
    {
     "name": "stdout",
     "output_type": "stream",
     "text": [
      "  1 jour  14 minutes  23 secondes\n"
     ]
    }
   ],
   "source": [
    "def affichePluriel(val,mot):\n",
    "    if val != 0:\n",
    "        print(\" \",val,mot,end = \"\")\n",
    "    if val > 1:\n",
    "        print(\"s\",end = \"\")\n",
    "\n",
    "def afficheTemps(temps):\n",
    "    affichePluriel(temps[0],\"jour\")\n",
    "    affichePluriel(temps[1],\"heure\")\n",
    "    affichePluriel(temps[2],\"minute\")\n",
    "    affichePluriel(temps[3],\"seconde\")\n",
    "    print(\"\")\n",
    "    \n",
    "\n",
    "afficheTemps((1,0,14,23))    "
   ]
  },
  {
   "cell_type": "markdown",
   "metadata": {},
   "source": [
    "Ecrire une fonction qui demande à l'utilisateur de rentrer un nombre de jours, d'heures, de minutes et\n",
    "de secondes et qui renvoie un temps. Attention, si l'entrée utilisateur n'est pas correcte, par exemple 80 minutes,\n",
    "afficher un message d'erreur et s'arrêter.\n",
    "\n",
    "(Optionnel) Au lieu d'arêter le programme, demander de rentrer une nouvelle valeur, tant que \n",
    "ce n'est pas une valeur correcte."
   ]
  },
  {
   "cell_type": "code",
   "execution_count": 36,
   "metadata": {},
   "outputs": [
    {
     "name": "stdout",
     "output_type": "stream",
     "text": [
      "  5 jours  5 heures  5 minutes  5 secondes\n"
     ]
    }
   ],
   "source": [
    "def demandeTemps():\n",
    "    jour = int(input(\"Combien de jours\"))\n",
    "    heure = int(input(\"Combien d'heures\"))\n",
    "    minute = int(input(\"Combien de minutes\"))\n",
    "    seconde = int(input(\"Combien de seconde\"))\n",
    "    \n",
    "    if (seconde > 59 or minute > 59 or heure > 23):\n",
    "        print(\"Entrée mal formée, ça n'est pas une date.\")\n",
    "        return (0,0,0,0)\n",
    "    return (jour,heure,minute,seconde)\n",
    "\n",
    "afficheTemps(demandeTemps())"
   ]
  },
  {
   "cell_type": "markdown",
   "metadata": {},
   "source": [
    "On veut être capable d'additionner deux temps. Donner une fonction qui fait ce calcul, en utilisant les fonctions précédentes."
   ]
  },
  {
   "cell_type": "code",
   "execution_count": 37,
   "metadata": {},
   "outputs": [
    {
     "data": {
      "text/plain": [
       "(8, 2, 1, 26)"
      ]
     },
     "execution_count": 37,
     "metadata": {},
     "output_type": "execute_result"
    }
   ],
   "source": [
    "def sommeTemps(temps1,temps2):\n",
    "    return secondeEnTemps(tempsEnSeconde(temps1) + tempsEnSeconde(temps2))\n",
    "\n",
    "\n",
    "sommeTemps((2,3,4,25),(5,22,57,1))\n"
   ]
  },
  {
   "cell_type": "markdown",
   "metadata": {},
   "source": []
  },
  {
   "cell_type": "markdown",
   "metadata": {},
   "source": [
    "On veut maintenant calculer un pourcentage d'un temps. Par exemple, 20% de 2 jours et 36 minutes correspond à 9 heures, 43 minutes et 12 secondes.\n",
    "\n",
    "Implémenter la fonction proportionTemps puis appeler cette fonction en échangeant l'ordre des arguments mais en les nommant."
   ]
  },
  {
   "cell_type": "code",
   "execution_count": 38,
   "metadata": {},
   "outputs": [
    {
     "name": "stdout",
     "output_type": "stream",
     "text": [
      "  9 heures  43 minutes  12 secondes\n",
      "  9 heures  43 minutes  12 secondes\n"
     ]
    }
   ],
   "source": [
    "def proportionTemps(temps,proportion):\n",
    "    return secondeEnTemps(int(tempsEnSeconde(temps)*proportion))\n",
    "\n",
    "afficheTemps(proportionTemps((2,0,36,0),0.2))\n",
    "\n",
    "afficheTemps(proportionTemps(proportion = 0.2, temps = (2,0,36,0)))"
   ]
  },
  {
   "cell_type": "markdown",
   "metadata": {},
   "source": [
    "On veut maintenant afficher un temps sous forme de date, en supposant  que le temps 0 est le 1 janvier 1970 à 00:00:00.\n",
    "\n",
    "* Implémenter une fonction `tempsEnDate`qui donne la date sous la forme (année, jour, heure, minute, seconde).\n",
    "* Implémenter la fonction `afficheDate`qui affiche la date. \n",
    "* (Optionnel) Gérer également les mois."
   ]
  },
  {
   "cell_type": "code",
   "execution_count": 47,
   "metadata": {},
   "outputs": [
    {
     "name": "stdout",
     "output_type": "stream",
     "text": [
      "  11574 jours  1 heure  46 minutes  40 secondes\n",
      "Année 2001   259 jours  1 heure  46 minutes  40 secondes\n",
      "Année 2021   334 jours  1 heure  43 minutes\n"
     ]
    }
   ],
   "source": [
    "import time\n",
    "def tempsEnDate(temps):\n",
    "    jour, heure, minute, seconde = temps\n",
    "    annee = 1970 + jour // 365\n",
    "    jour %= 365 \n",
    "    return (annee, jour, heure, minute, seconde)\n",
    "\n",
    "def afficheDate(date = -1):\n",
    "    if date == -1:\n",
    "        date = tempsEnDate(secondeEnTemps(int(time.time())))\n",
    "    \n",
    "    annee, jour, heure, minute, seconde = date\n",
    "    print(\"Année\", annee, end = \" \")\n",
    "    afficheTemps((jour%365, heure, minute, seconde))\n",
    "    \n",
    "\n",
    "    \n",
    "temps = secondeEnTemps(1000000000)\n",
    "\n",
    "\n",
    "afficheTemps(temps)\n",
    "afficheDate(tempsEnDate(temps))\n",
    "afficheDate()"
   ]
  },
  {
   "cell_type": "markdown",
   "metadata": {},
   "source": [
    "Il existe des fonctions dans la librairie time pour la gestion du temps. En particulier, il existe une fonction time qui donne le temps écoulé depuis 1970 en secondes. La trouver avec la documentation python et la tester en utilisant afficheDate. Tester de la même manière la fonction time.gmtime qui réalise une tâche similaire à tempsEnDate. Que constatez vous ?"
   ]
  },
  {
   "cell_type": "code",
   "execution_count": 48,
   "metadata": {},
   "outputs": [
    {
     "name": "stdout",
     "output_type": "stream",
     "text": [
      "Année 2021   334 jours  1 heure  43 minutes  3 secondes\n",
      "time.struct_time(tm_year=2021, tm_mon=11, tm_mday=18, tm_hour=1, tm_min=43, tm_sec=3, tm_wday=3, tm_yday=322, tm_isdst=0)\n"
     ]
    }
   ],
   "source": [
    "import time\n",
    "\n",
    "afficheDate(tempsEnDate(secondeEnTemps(int(time.time()))))\n",
    "print(time.gmtime(time.time()))"
   ]
  },
  {
   "cell_type": "markdown",
   "metadata": {},
   "source": [
    "Attention, tous les 4 ans les années sont bissextiles (un jour de plus) sauf les multiples de 100 qui ne sont pas des multiples de 400. Donner un code qui prend un nombre de jours et affiche toutes les années bisextiles depuis 1 janvier 2020 à 00:00:00 jusqu'à la fin de ces jours."
   ]
  },
  {
   "cell_type": "code",
   "execution_count": 54,
   "metadata": {},
   "outputs": [
    {
     "name": "stdout",
     "output_type": "stream",
     "text": [
      "Année 1972 bissextile\n",
      "Année 1976 bissextile\n",
      "Année 1980 bissextile\n",
      "Année 1984 bissextile\n",
      "Année 1988 bissextile\n",
      "Année 1992 bissextile\n",
      "Année 1996 bissextile\n",
      "Année 2000 bissextile\n",
      "Année 2004 bissextile\n",
      "Année 2008 bissextile\n",
      "Année 2012 bissextile\n",
      "Année 2016 bissextile\n",
      "Année 2020 bissextile\n",
      "Année 2024 bissextile\n"
     ]
    }
   ],
   "source": [
    "def bisextile(jour):\n",
    "    annee = 1970\n",
    "    while(jour >= 0):\n",
    "        if(annee % 4 == 0) and (annee % 100 != 0 or annee % 400 == 0):\n",
    "            print(\"Année\",annee,\"bissextile\")\n",
    "            jour -= 366\n",
    "        else:\n",
    "            jour -= 365\n",
    "        annee +=1\n",
    "\n",
    "        \n",
    "bisextile(20000)"
   ]
  },
  {
   "cell_type": "markdown",
   "metadata": {},
   "source": [
    "Implémenter une fonction nombreBisextile qui calcule le nombre d'années bisextiles pour un nombre de jour donnés pour corriger votre fonction de calcul de la date."
   ]
  },
  {
   "cell_type": "code",
   "execution_count": null,
   "metadata": {},
   "outputs": [],
   "source": [
    "def nombreBisextile(jour):\n",
    "    annee = 1970\n",
    "    b = 0\n",
    "    while(jour >= 0):\n",
    "        if(annee % 4 == 0 and (annee % 100 != 0 or annee % 400 == 0)):\n",
    "            b+= 1\n",
    "            jour -= 366\n",
    "        else:\n",
    "            jour -= 365\n",
    "        annee+= 1\n",
    "    return b\n",
    "\n",
    "def tempsEnDateBisextile(temps):\n",
    "    jour, heure, minute, seconde = temps\n",
    "    return tempsEnDate((jour - nombreBisextile(jour),heure,minute,seconde))\n",
    "\n",
    "   \n",
    "temps = secondeEnTemps(1000000000)\n",
    "afficheTemps(temps)\n",
    "afficheDate(tempsEnDateBisextile(temps))"
   ]
  }
 ],
 "metadata": {
  "interpreter": {
   "hash": "49d2c453dfda59dbcd87464713a48b15d9630a5c24693d96d9a423ac18b8a083"
  },
  "kernelspec": {
   "display_name": "Python 3.9.7 64-bit ('l1-python': conda)",
   "name": "python3"
  },
  "language_info": {
   "codemirror_mode": {
    "name": "ipython",
    "version": 3
   },
   "file_extension": ".py",
   "mimetype": "text/x-python",
   "name": "python",
   "nbconvert_exporter": "python",
   "pygments_lexer": "ipython3",
   "version": "3.9.7"
  },
  "orig_nbformat": 4
 },
 "nbformat": 4,
 "nbformat_minor": 2
}
