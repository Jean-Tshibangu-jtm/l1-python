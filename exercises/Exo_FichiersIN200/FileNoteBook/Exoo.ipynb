{
 "cells": [
  {
   "cell_type": "code",
   "execution_count": 9,
   "metadata": {},
   "outputs": [
    {
     "name": "stdout",
     "output_type": "stream",
     "text": [
      "98 -99\n"
     ]
    }
   ],
   "source": [
    "#QUESTION 1:\n",
    "t = [0] * 100\n",
    "for i in range(100):\n",
    " \n",
    "\n",
    "   if i%3:\n",
    "   \n",
    "    t[i] = i\n",
    "    \n",
    "   else:\n",
    "    \n",
    "    t[i] = -i\n",
    " \n",
    "    \n",
    "print(t[98], t[99])"
   ]
  },
  {
   "cell_type": "code",
   "execution_count": 10,
   "metadata": {},
   "outputs": [
    {
     "name": "stdout",
     "output_type": "stream",
     "text": [
      "6 -1\n"
     ]
    }
   ],
   "source": [
    "#QUESTION 2:\n",
    "def f(y):\n",
    "\n",
    "   global x\n",
    "   x, y = x * 2, y + 1\n",
    "\n",
    "x, y = 3, -1\n",
    "f(y)\n",
    "print(x, y)\n"
   ]
  },
  {
   "cell_type": "code",
   "execution_count": 41,
   "metadata": {},
   "outputs": [
    {
     "name": "stdout",
     "output_type": "stream",
     "text": [
      "8\n"
     ]
    }
   ],
   "source": [
    "#QUESTION 3:\n",
    "def f(n):\n",
    "  if n%2 == 0:\n",
    "     return n // 2\n",
    "  return 3 * n + 1\n",
    "\n",
    "v = 3\n",
    "for i in range(4):\n",
    " v = f(v)\n",
    "print(v)"
   ]
  },
  {
   "cell_type": "code",
   "execution_count": 11,
   "metadata": {},
   "outputs": [
    {
     "name": "stdout",
     "output_type": "stream",
     "text": [
      "52\n"
     ]
    }
   ],
   "source": [
    "#QUESTION 4:\n",
    "#Écrire dans un fichier avec ajout \n",
    "fichier1 = open(\"Coll1\" , \"r\")\n",
    "line = fichier1.readline()\n",
    "val = line.split()\n",
    "print(val[0] + val[1])\n",
    "fichier1.close()\n",
    "\n",
    "#fermer un fichier  : libère le fichier pour un usage externe : écrit tout ce qui est dans le buffer dans le fichier.\n",
    "fichier1.close()"
   ]
  },
  {
   "cell_type": "code",
   "execution_count": 30,
   "metadata": {},
   "outputs": [
    {
     "ename": "TypeError",
     "evalue": "write() argument must be str, not int",
     "output_type": "error",
     "traceback": [
      "\u001b[1;31m---------------------------------------------------------------------------\u001b[0m",
      "\u001b[1;31mTypeError\u001b[0m                                 Traceback (most recent call last)",
      "\u001b[1;32m~\\AppData\\Local\\Temp/ipykernel_14068/2600747316.py\u001b[0m in \u001b[0;36m<module>\u001b[1;34m\u001b[0m\n\u001b[0;32m      2\u001b[0m \u001b[0mfic\u001b[0m\u001b[1;33m=\u001b[0m\u001b[0mopen\u001b[0m\u001b[1;33m(\u001b[0m\u001b[1;34m\"result.txt\"\u001b[0m\u001b[1;33m,\u001b[0m \u001b[1;34m\"w\"\u001b[0m\u001b[1;33m)\u001b[0m\u001b[1;33m\u001b[0m\u001b[1;33m\u001b[0m\u001b[0m\n\u001b[0;32m      3\u001b[0m \u001b[1;32mfor\u001b[0m \u001b[0mi\u001b[0m \u001b[1;32min\u001b[0m \u001b[0mrange\u001b[0m\u001b[1;33m(\u001b[0m\u001b[1;36m4\u001b[0m\u001b[1;33m)\u001b[0m\u001b[1;33m:\u001b[0m\u001b[1;33m\u001b[0m\u001b[1;33m\u001b[0m\u001b[0m\n\u001b[1;32m----> 4\u001b[1;33m   \u001b[0mfic\u001b[0m\u001b[1;33m.\u001b[0m\u001b[0mwrite\u001b[0m\u001b[1;33m(\u001b[0m\u001b[0mi\u001b[0m\u001b[1;33m)\u001b[0m\u001b[1;33m\u001b[0m\u001b[1;33m\u001b[0m\u001b[0m\n\u001b[0m\u001b[0;32m      5\u001b[0m \u001b[0mfic\u001b[0m\u001b[1;33m.\u001b[0m\u001b[0mclose\u001b[0m\u001b[1;33m(\u001b[0m\u001b[1;33m)\u001b[0m\u001b[1;33m\u001b[0m\u001b[1;33m\u001b[0m\u001b[0m\n",
      "\u001b[1;31mTypeError\u001b[0m: write() argument must be str, not int"
     ]
    }
   ],
   "source": [
    "#QUESTION 5:#write() argument must be str, not int\n",
    "fic=open(\"result.txt\", \"w\")\n",
    "for i in range(4):\n",
    "  fic.write(i)\n",
    "fic.close()"
   ]
  },
  {
   "cell_type": "code",
   "execution_count": 26,
   "metadata": {},
   "outputs": [
    {
     "name": "stdout",
     "output_type": "stream",
     "text": [
      "i : 0 []\n",
      "[]\n",
      "i : 1 [0]\n",
      "[0]\n",
      "i : 2 [1, 0]\n",
      "[1, 0]\n",
      "i : 3 [2, 1, 0]\n",
      "[2, 1, 0]\n",
      "[3, 2, 1, 0]\n"
     ]
    }
   ],
   "source": [
    "#QUESTION 6:\n",
    "def f(el):\n",
    "    print(el)\n",
    "    return [len(el)] + el\n",
    "\n",
    "el = []\n",
    "\n",
    "for i in range(4):\n",
    "      print(\"i :\",i,el)\n",
    "      \n",
    "      el = f(el)\n",
    "      \n",
    "print(el)"
   ]
  },
  {
   "cell_type": "code",
   "execution_count": null,
   "metadata": {},
   "outputs": [],
   "source": []
  },
  {
   "cell_type": "code",
   "execution_count": null,
   "metadata": {},
   "outputs": [],
   "source": []
  },
  {
   "cell_type": "code",
   "execution_count": null,
   "metadata": {},
   "outputs": [],
   "source": []
  },
  {
   "cell_type": "code",
   "execution_count": 11,
   "metadata": {},
   "outputs": [
    {
     "data": {
      "text/plain": [
       "15"
      ]
     },
     "execution_count": 11,
     "metadata": {},
     "output_type": "execute_result"
    }
   ],
   "source": [
    "#Ouvrir un fichier en écriture\n",
    "\n",
    "fichier1 = open(\"test2\" , \"w\")\n",
    "\n",
    "#Écrire dans un fichier\n",
    "fichier1.write(\"Bonjour L1  TD1\")"
   ]
  },
  {
   "cell_type": "code",
   "execution_count": 18,
   "metadata": {},
   "outputs": [],
   "source": [
    "#Écrire dans un fichier avec ajout \n",
    "fichier1 = open(\"test2\" , \"w\")\n",
    "fichier1.write(\"Bonjour L1  TD1\")\n",
    "\n",
    "#fermer un fichier  : libère le fichier pour un usage externe : écrit tout ce qui est dans le buffer dans le fichier.\n",
    "fichier1.close()"
   ]
  },
  {
   "cell_type": "code",
   "execution_count": 41,
   "metadata": {},
   "outputs": [],
   "source": [
    "fichier2 = open(\"test4\" , \"w\")\n",
    "fichier2.write(\"Bonjour L1  TD1\")\n",
    "fichier2.close()"
   ]
  },
  {
   "cell_type": "code",
   "execution_count": 30,
   "metadata": {},
   "outputs": [],
   "source": [
    "fichier1 = open(\"test2\" , \"a\")\n",
    "fichier1.write(\"\\nBonjour L1  TD4\")\n",
    "fichier1.close()"
   ]
  },
  {
   "cell_type": "markdown",
   "metadata": {},
   "source": [
    " Écrire dans un fichier"
   ]
  },
  {
   "cell_type": "code",
   "execution_count": 34,
   "metadata": {},
   "outputs": [
    {
     "data": {
      "text/plain": [
       "20"
      ]
     },
     "execution_count": 34,
     "metadata": {},
     "output_type": "execute_result"
    }
   ],
   "source": [
    "fichier1 = open(\"test2\" , \"a\")\n",
    "fichier1.write(\"\\n___________________\")\n",
    "fichier1.close()"
   ]
  },
  {
   "cell_type": "code",
   "execution_count": 35,
   "metadata": {},
   "outputs": [],
   "source": [
    "pi=3.14\n",
    "fichier1 = open(\"test2\" , \"a\")\n",
    "\n",
    "fichier1.write(\"\\n La valeur de pi vaut \")\n",
    "fichier1.write(str(pi))\n",
    "fichier1.close()"
   ]
  },
  {
   "cell_type": "code",
   "execution_count": 37,
   "metadata": {},
   "outputs": [],
   "source": [
    "pi=3.14\n",
    "fichier1 = open(\"test2\" , \"a\")\n",
    "\n",
    "fichier1.write(\"\\n La valeur de pi vaut \" + str(pi) + \"\\n\")\n",
    "fichier1.write(str(pi))\n",
    "fichier1.close()"
   ]
  },
  {
   "cell_type": "code",
   "execution_count": null,
   "metadata": {},
   "outputs": [],
   "source": []
  },
  {
   "cell_type": "code",
   "execution_count": null,
   "metadata": {},
   "outputs": [],
   "source": []
  },
  {
   "cell_type": "code",
   "execution_count": 29,
   "metadata": {},
   "outputs": [
    {
     "ename": "SyntaxError",
     "evalue": "invalid syntax (Temp/ipykernel_18000/2652652194.py, line 2)",
     "output_type": "error",
     "traceback": [
      "\u001b[1;36m  File \u001b[1;32m\"C:\\Users\\jeanm\\AppData\\Local\\Temp/ipykernel_18000/2652652194.py\"\u001b[1;36m, line \u001b[1;32m2\u001b[0m\n\u001b[1;33m    print fichier1.readline()\u001b[0m\n\u001b[1;37m          ^\u001b[0m\n\u001b[1;31mSyntaxError\u001b[0m\u001b[1;31m:\u001b[0m invalid syntax\n"
     ]
    }
   ],
   "source": [
    "\n",
    "fichier1 = open(\"test2\" , \"r\")\n",
    "print fichier1.readline()\n",
    "fichier1.close()"
   ]
  }
 ],
 "metadata": {
  "interpreter": {
   "hash": "49d2c453dfda59dbcd87464713a48b15d9630a5c24693d96d9a423ac18b8a083"
  },
  "kernelspec": {
   "display_name": "Python 3.9.7 64-bit ('l1-python': conda)",
   "language": "python",
   "name": "python3"
  },
  "language_info": {
   "codemirror_mode": {
    "name": "ipython",
    "version": 3
   },
   "file_extension": ".py",
   "mimetype": "text/x-python",
   "name": "python",
   "nbconvert_exporter": "python",
   "pygments_lexer": "ipython3",
   "version": "3.9.7"
  },
  "orig_nbformat": 4
 },
 "nbformat": 4,
 "nbformat_minor": 2
}
