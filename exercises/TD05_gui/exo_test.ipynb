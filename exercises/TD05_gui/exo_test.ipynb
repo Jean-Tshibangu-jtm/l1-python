{
 "cells": [
  {
   "cell_type": "code",
   "execution_count": 30,
   "metadata": {},
   "outputs": [],
   "source": [
    "import tkinter as tk\n",
    "\n",
    "racine = tk.Tk() # Création de la fenêtre racine\n",
    "racine.title(\"Ma fenetre IHM\")\n",
    "lalel=tk.Label(racine, text = \"Un texte dans fenetre\", font=(\"helvetica\", \"20\"))\n",
    "\n",
    "lalel.grid()\n",
    " # positionnement du widget\n",
    "racine.mainloop() # Lancement de la boucle principale"
   ]
  },
  {
   "cell_type": "markdown",
   "metadata": {},
   "source": [
    "Méthode .grid() # Création de la fenêtre racine. Partage la fenetre en 4 partie(Ligne et colonne)"
   ]
  },
  {
   "cell_type": "code",
   "execution_count": 35,
   "metadata": {},
   "outputs": [],
   "source": [
    "\n",
    "\n",
    "import tkinter as tk\n",
    "\n",
    "racine = tk.Tk() # Création de la fenêtre racine\n",
    "label1 = tk.Label(racine, text=\"Un texte long dans ma fenêtre\", font = (\"helvetica\", \"30\")) # création d'un widget\n",
    "label2 = tk.Label(racine, text=\"toto\", font = (\"helvetica\", \"30\")) # création d'un widget\n",
    "label1.grid(column=0, row=0) # positionnement du premier widget\n",
    "label2.grid(row=1, column=0) # positionnement du premier widget\n",
    "racine.mainloop() # Lancement de la boucle principale\n",
    "\n"
   ]
  },
  {
   "cell_type": "code",
   "execution_count": 47,
   "metadata": {},
   "outputs": [],
   "source": [
    "\n",
    "#Avec les paramètres padx et pady.\n",
    "import tkinter as tk\n",
    "\n",
    "racine = tk.Tk() # Création de la fenêtre racine\n",
    "racine.title(\"Ma fenetre IHM\")\n",
    "label1 = tk.Label(racine, text=\"Un texte long dans ma fenêtre\", font = (\"helvetica\", \"30\")) # création d'un widget\n",
    "label2 = tk.Label(racine, text=\"toto\",font = (\"helvetica\", \"26\")) # création d'un widget\n",
    "label1.grid(column=0, row=0, padx=50) # positionnement du premier widget\n",
    "label2.grid(column=0, row=1, pady=10) # positionnement du premier widget\n",
    "racine.mainloop() # Lancement de la boucle principale\n",
    "\n"
   ]
  },
  {
   "cell_type": "code",
   "execution_count": 43,
   "metadata": {},
   "outputs": [],
   "source": [
    "#Avec les paramètres padx et pady.\n",
    "import tkinter as tk\n",
    "\n",
    "racine = tk.Tk() # Création de la fenêtre racine\n",
    "label1 = tk.Label(racine, text=\"Un texte long dans ma fenêtre\", padx=50, font = (\"helvetica\", \"30\")) # création d'un widget\n",
    "label2 = tk.Label(racine, text=\"toto\",padx=10,font = (\"helvetica\", \"30\")) # création d'un widget\n",
    "label1.grid(column=0, row=0) # positionnement du premier widget\n",
    "label2.grid(column=0, row=1) # positionnement du premier widget\n",
    "racine.mainloop() # Lancement de la boucle principale"
   ]
  },
  {
   "cell_type": "code",
   "execution_count": 50,
   "metadata": {},
   "outputs": [],
   "source": [
    "#Avec les paramètres padx et pady.\n",
    "import tkinter as tk\n",
    "\n",
    "racine = tk.Tk() # Création de la fenêtre racine\n",
    "racine.title(\"Ma fenetre IHM\")\n",
    "\n",
    "label1 = tk.Label(racine, text=\"12 + 25 + 37\",padx=80, pady=40,font = (\"helvetica\", \"30\")) \n",
    "label2 = tk.Label(racine, text=\"Un textee\", padx=50, font = (\"helvetica\", \"30\")) # création d'un widget\n",
    "label3 = tk.Label(racine, text=\"toto\",padx=10,font = (\"helvetica\", \"30\")) # création d'un widget\n",
    "label4 = tk.Label(racine, text=\"toto\",padx=10,font = (\"helvetica\", \"30\"))\n",
    "label5 = tk.Label(racine, text=\"toto\",padx=10,font = (\"helvetica\", \"30\"))\n",
    "label6 = tk.Label(racine, text=\"toto\",padx=10,font = (\"helvetica\", \"30\"))\n",
    "label7 = tk.Label(racine, text=\"toto\",padx=10,font = (\"helvetica\", \"30\"))\n",
    "label8 = tk.Label(racine, text=\"toto\",padx=10,font = (\"helvetica\", \"30\"))\n",
    "\n",
    "\n",
    "\n",
    "label1.grid(column=0, row=0) # positionnement du premier widget\n",
    "label2.grid(column=0, row=1) # positionnement du premier widget\n",
    "label3.grid(column=0, row=0) # positionnement du premier widget\n",
    "label4.grid(column=0, row=1) # positionnement du premier widget\n",
    "label5.grid(column=0, row=0) # positionnement du premier widget\n",
    "label6.grid(column=0, row=1) # positionnement du premier widget\n",
    "label7.grid(column=0, row=0) # positionnement du premier widget\n",
    "label8.grid(column=0, row=1) # positionnement du premier widget\n",
    "\n",
    "racine.mainloop() # Lancement de la boucle principale\n",
    "\n"
   ]
  },
  {
   "cell_type": "code",
   "execution_count": 52,
   "metadata": {},
   "outputs": [],
   "source": [
    " #Couleur aléatoire\n",
    "import tkinter as tk\n",
    "import random as rd\n",
    "\n",
    "couleurs = [\"red\", \"green\", \"blue\", \"cyan\", \"yellow\"]\n",
    "couleur_fond = rd.choice(couleurs)\n",
    "couleurs.remove(couleur_fond)\n",
    "couleur_texte = rd.choice(couleurs)\n",
    "\n",
    "racine = tk.Tk() # Création de la fenêtre racine\n",
    "\n",
    "label = tk.Label(racine, bg=couleur_fond, fg=couleur_texte,\n",
    "                 text=\"couleur texte: \" + couleur_texte + \"\\ncouleur fond: \" + couleur_fond,\n",
    "                 padx=20, pady=20, borderwidth=5, relief=\"groove\",\n",
    "                 font = (\"helvetica\", \"30\") \n",
    "                )\n",
    "label.grid() # positionnement du premier widget\n",
    "\n",
    "racine.mainloop() # Lancement de la boucle principale\n",
    "\n"
   ]
  },
  {
   "cell_type": "code",
   "execution_count": 58,
   "metadata": {},
   "outputs": [],
   "source": [
    "import tkinter as tk\n",
    "\n",
    "def affichage():\n",
    "    \"\"\" Modifie le texte d'un label. \"\"\"\n",
    "    global cpt\n",
    "    cpt += 1\n",
    "    label.config(text=\"Toi, tu as clicqué \" + str(cpt)+ \" fois\")\n",
    "\n",
    "cpt = 0\n",
    "racine = tk.Tk() # Création de la fenêtre racine\n",
    "label = tk.Label(racine, text=\"texte avant de cliquer sur le bouton\",\n",
    "                  padx=50, pady=50, font = (\"helvetica\", \"30\") \n",
    "                )\n",
    "label.grid(row=0, column=0)\n",
    "bouton = tk.Button(racine, text=\"Click Ici \", \n",
    "                    command=affichage, font = (\"helvetica\", \"30\") \n",
    "                  ) # création du widget\n",
    "bouton.grid(row=1, column=0) # positionnement du widget\n",
    "racine.mainloop() # Lancement de la boucle principale"
   ]
  },
  {
   "cell_type": "code",
   "execution_count": 64,
   "metadata": {},
   "outputs": [
    {
     "name": "stderr",
     "output_type": "stream",
     "text": [
      "Exception in Tkinter callback\n",
      "Traceback (most recent call last):\n",
      "  File \"C:\\Users\\jeanm\\miniconda3\\envs\\l1-python\\lib\\tkinter\\__init__.py\", line 1892, in __call__\n",
      "    return self.func(*args)\n",
      "TypeError: Salut() missing 1 required positional argument: 'n'\n",
      "Exception in Tkinter callback\n",
      "Traceback (most recent call last):\n",
      "  File \"C:\\Users\\jeanm\\miniconda3\\envs\\l1-python\\lib\\tkinter\\__init__.py\", line 1892, in __call__\n",
      "    return self.func(*args)\n",
      "TypeError: Salut() missing 1 required positional argument: 'n'\n",
      "Exception in Tkinter callback\n",
      "Traceback (most recent call last):\n",
      "  File \"C:\\Users\\jeanm\\miniconda3\\envs\\l1-python\\lib\\tkinter\\__init__.py\", line 1892, in __call__\n",
      "    return self.func(*args)\n",
      "TypeError: Salut() missing 1 required positional argument: 'n'\n",
      "Exception in Tkinter callback\n",
      "Traceback (most recent call last):\n",
      "  File \"C:\\Users\\jeanm\\miniconda3\\envs\\l1-python\\lib\\tkinter\\__init__.py\", line 1892, in __call__\n",
      "    return self.func(*args)\n",
      "TypeError: Salut() missing 1 required positional argument: 'n'\n"
     ]
    }
   ],
   "source": [
    "# Salutation\n",
    "\n",
    "import tkinter as tk\n",
    "\n",
    "def Salut(n):\n",
    "    \"\"\" Modifie le texte d'un label. \"\"\"\n",
    "    if n%2==0 :\n",
    "\n",
    "      label.config(text= str(n)+ \" est Normbre Paire \")\n",
    "    else :\n",
    "       \n",
    "      label.config(text= str(n)+ \" est Normbre impaire \")\n",
    "\n",
    "cpt = 2\n",
    "\n",
    "\n",
    "racine = tk.Tk() # Création de la fenêtre racine\n",
    "label = tk.Label(racine, text=\"texte avant de cliquer sur le bouton\",\n",
    "                  padx=50, pady=50, font = (\"helvetica\", \"30\") \n",
    "                )\n",
    "label.grid(row=0, column=0)\n",
    "bouton = tk.Button(racine, text=\"Click Ici \", \n",
    "                    command=Salut, font = (\"helvetica\", \"30\") \n",
    "                  ) # création du widget\n",
    "bouton.grid(row=1, column=0) # positionnement du widget\n",
    "racine.mainloop() # Lancement de la boucle principale\n"
   ]
  },
  {
   "cell_type": "code",
   "execution_count": 88,
   "metadata": {},
   "outputs": [],
   "source": [
    "import tkinter as tk\n",
    "\n",
    "\n",
    "racine = tk.Tk() # Création de la fenêtre racine\n",
    "canvas = tk.Canvas(racine, bg=\"blue\", height=500, width=500)\n",
    "canvas.grid()\n",
    "racine.mainloop() # Lancement de la boucle principale"
   ]
  },
  {
   "cell_type": "code",
   "execution_count": 90,
   "metadata": {},
   "outputs": [],
   "source": [
    "import tkinter as tk\n",
    "\n",
    "HEIGHT = 500\n",
    "WIDTH = 500\n",
    "\n",
    "racine = tk.Tk() # Création de la fenêtre racine\n",
    "canvas = tk.Canvas(racine, bg=\"red\", height=HEIGHT, width=WIDTH)\n",
    "canvas.grid()\n",
    "canvas.create_line((0,0), (WIDTH/2, HEIGHT/2), (WIDTH, 0), width=55,fill=\"black\")\n",
    "racine.mainloop() # Lancement de la boucle principale"
   ]
  },
  {
   "cell_type": "code",
   "execution_count": 100,
   "metadata": {},
   "outputs": [],
   "source": [
    "import tkinter as tk\n",
    "\n",
    "HEIGHT = 500\n",
    "WIDTH = 500\n",
    "\n",
    "racine = tk.Tk() # Création de la fenêtre racine\n",
    "canvas = tk.Canvas(racine, bg=\"red\", height=HEIGHT, width=WIDTH)\n",
    "canvas.grid()\n",
    "canvas.create_oval((100, 100), (200, 200), fill=\"blue\", width=5, outline=\"cyan\")\n",
    "canvas.create_rectangle((100, 100), (300, 300))\n",
    "racine.mainloop() # Lancement de la boucle principale"
   ]
  },
  {
   "cell_type": "code",
   "execution_count": 59,
   "metadata": {},
   "outputs": [],
   "source": [
    "from tkinter import *\n",
    "master = Tk()\n",
    "\n",
    "canvas_width = 800\n",
    "canvas_height = 700\n",
    "w = Canvas(master, width=canvas_width,height=canvas_height)\n",
    "\n",
    "\n",
    "w.pack()\n",
    "\n",
    "\n",
    "y = int(canvas_height / 2)\n",
    "w.create_line(0, 0, canvas_width, y, fill=\"blue\")\n",
    "#w.create_line(0, y, canvas_width, y, fill=\"blue\")\n",
    "\n",
    "\n",
    "mainloop()"
   ]
  },
  {
   "cell_type": "code",
   "execution_count": 80,
   "metadata": {},
   "outputs": [],
   "source": [
    "from tkinter import *\n",
    "\n",
    "master = Tk()\n",
    "\n",
    "w = Canvas(master, width=800, height=700)\n",
    "w.pack()\n",
    "\n",
    "w.create_rectangle(20,20, 800, 30, fill=\"#476042\")\n",
    "#w.create_rectangle(65, 35, 135, 65, fill=\"yellow\")\n",
    "#w.create_line(0, 0, 50, 20, fill=\"#476042\", width=3)\n",
    "#w.create_line(0, 100, 50, 80, fill=\"#476042\", width=3)\n",
    "#w.create_line(150,20, 200, 0, fill=\"#476042\", width=3)\n",
    "#w.create_line(150, 80, 200, 100, fill=\"#476042\", width=3)\n",
    "\n",
    "mainloop()"
   ]
  },
  {
   "cell_type": "code",
   "execution_count": 92,
   "metadata": {},
   "outputs": [],
   "source": [
    "from tkinter import *\n",
    "\n",
    "canvas_width = 700\n",
    "canvas_height =660\n",
    "\n",
    "master = Tk()\n",
    "\n",
    "w = Canvas(master, \n",
    "           width=canvas_width, \n",
    "           height=canvas_height)\n",
    "w.pack()\n",
    "\n",
    "w.create_oval(10,10,700,300)\n",
    "\n",
    "mainloop()"
   ]
  }
 ],
 "metadata": {
  "interpreter": {
   "hash": "49d2c453dfda59dbcd87464713a48b15d9630a5c24693d96d9a423ac18b8a083"
  },
  "kernelspec": {
   "display_name": "Python 3.9.7 64-bit ('l1-python': conda)",
   "language": "python",
   "name": "python3"
  },
  "language_info": {
   "codemirror_mode": {
    "name": "ipython",
    "version": 3
   },
   "file_extension": ".py",
   "mimetype": "text/x-python",
   "name": "python",
   "nbconvert_exporter": "python",
   "pygments_lexer": "ipython3",
   "version": "3.9.7"
  },
  "orig_nbformat": 4
 },
 "nbformat": 4,
 "nbformat_minor": 2
}
