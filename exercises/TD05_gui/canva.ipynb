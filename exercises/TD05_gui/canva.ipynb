{
 "cells": [
  {
   "cell_type": "code",
   "execution_count": 1,
   "metadata": {},
   "outputs": [],
   "source": [
    "import tkinter\n",
    "\n",
    "TKI_Principal = tkinter.Tk ( ) \n",
    "\n",
    "BUT_Quitter = tkinter.Button ( TKI_Principal , text = \"Quitter\" , command = TKI_Principal.destroy )\n",
    "\n",
    "CAN_Zone = tkinter.Canvas ( TKI_Principal , bg = \"white\" , height = 130 , width = 220 )\n",
    "CAN_Zone_Rose = CAN_Zone.create_oval ( 10 , 20 , 70 , 10 , fill = \"pink\" )\n",
    "CAN_Zone_Rouge = CAN_Zone.create_oval ( 85 , 10 , 135 , 60 , fill = \"red\" )\n",
    "CAN_Zone_Orange = CAN_Zone.create_oval ( 170 , 60 , 190 , 10 , fill = \"orange\" )\n",
    "CAN_Zone_Vert = CAN_Zone.create_oval ( 10 , 90 , 70 , 120 , width = 5 , fill = \"green\" )\n",
    "CAN_Zone_Bleu = CAN_Zone.create_oval ( 110 , 100 , 140 , 115 , fill = \"blue\" )\n",
    "CAN_Zone_Jaune = CAN_Zone.create_oval ( 150  , 80 , 210 , 90 ,  width = 3 , fill = \"yellow\" )\n",
    "\n",
    "CAN_Zone.grid ( row = 0 , column = 0 , sticky = \"nesw\" )\n",
    "\n",
    "BUT_Quitter.grid ( row = 1 , column = 0 , sticky = \"nesw\" )\n",
    "\n",
    "TKI_Principal.mainloop ( )\n"
   ]
  },
  {
   "cell_type": "code",
   "execution_count": 6,
   "metadata": {},
   "outputs": [],
   "source": [
    "import tkinter\n",
    "\n",
    "TKI_Principal = tkinter.Tk ( ) \n",
    "\n",
    "BUT_Quitter = tkinter.Button ( TKI_Principal , text = \"Quitter\" , command = TKI_Principal.destroy )\n",
    "\n",
    "CAN_Zone = tkinter.Canvas ( TKI_Principal , bg = \"white\" , height = 130 , width = 220 )\n",
    "CAN_Zone_Rose = CAN_Zone.create_rectangle ( 10 , 20 , 120 , 50 , fill = \"pink\" )\n",
    "CAN_Zone_Rouge = CAN_Zone.create_rectangle ( 85 , 10 , 135 , 60 , fill = \"red\" )\n",
    "CAN_Zone_Orange = CAN_Zone.create_rectangle ( 170 , 60 , 190 , 10 , fill = \"orange\" )\n",
    "CAN_Zone_Vert = CAN_Zone.create_rectangle ( 10 , 90 , 70 , 120 , width = 5 , fill = \"green\" )\n",
    "CAN_Zone_Bleu = CAN_Zone.create_rectangle ( 110 , 100 , 140 , 115 , fill = \"blue\" )\n",
    "CAN_Zone_Jaune = CAN_Zone.create_rectangle ( 150  , 80 , 210 , 90 ,  width = 3 , fill = \"yellow\" )\n",
    "\n",
    "CAN_Zone.grid ( row = 0 , column = 0 , sticky = \"nesw\" )\n",
    "BUT_Quitter.grid ( row = 1 , column = 0 , sticky = \"nesw\" )\n",
    "\n",
    "TKI_Principal.mainloop ( )"
   ]
  },
  {
   "cell_type": "code",
   "execution_count": 17,
   "metadata": {},
   "outputs": [
    {
     "ename": "NameError",
     "evalue": "name 'tk' is not defined",
     "output_type": "error",
     "traceback": [
      "\u001b[1;31m---------------------------------------------------------------------------\u001b[0m",
      "\u001b[1;31mNameError\u001b[0m                                 Traceback (most recent call last)",
      "\u001b[1;32m~\\AppData\\Local\\Temp/ipykernel_13372/3852512651.py\u001b[0m in \u001b[0;36m<module>\u001b[1;34m\u001b[0m\n\u001b[0;32m      5\u001b[0m \u001b[0mBUT_Quitter\u001b[0m \u001b[1;33m=\u001b[0m \u001b[0mtkinter\u001b[0m\u001b[1;33m.\u001b[0m\u001b[0mButton\u001b[0m \u001b[1;33m(\u001b[0m \u001b[0mTKI_Principal\u001b[0m \u001b[1;33m,\u001b[0m \u001b[0mtext\u001b[0m \u001b[1;33m=\u001b[0m \u001b[1;34m\"Quitter\"\u001b[0m \u001b[1;33m,\u001b[0m \u001b[0mcommand\u001b[0m \u001b[1;33m=\u001b[0m \u001b[0mTKI_Principal\u001b[0m\u001b[1;33m.\u001b[0m\u001b[0mdestroy\u001b[0m \u001b[1;33m)\u001b[0m\u001b[1;33m\u001b[0m\u001b[1;33m\u001b[0m\u001b[0m\n\u001b[0;32m      6\u001b[0m \u001b[1;33m\u001b[0m\u001b[0m\n\u001b[1;32m----> 7\u001b[1;33m \u001b[0mbouton_cercle\u001b[0m \u001b[1;33m=\u001b[0m \u001b[0mtk\u001b[0m\u001b[1;33m.\u001b[0m\u001b[0mButton\u001b[0m\u001b[1;33m(\u001b[0m\u001b[0mracine\u001b[0m\u001b[1;33m,\u001b[0m \u001b[0mtext\u001b[0m\u001b[1;33m=\u001b[0m\u001b[1;34m\"Cercle\"\u001b[0m\u001b[1;33m)\u001b[0m\u001b[1;33m\u001b[0m\u001b[1;33m\u001b[0m\u001b[0m\n\u001b[0m\u001b[0;32m      8\u001b[0m \u001b[1;33m\u001b[0m\u001b[0m\n\u001b[0;32m      9\u001b[0m \u001b[0mCAN_Zone\u001b[0m \u001b[1;33m=\u001b[0m \u001b[0mtkinter\u001b[0m\u001b[1;33m.\u001b[0m\u001b[0mCanvas\u001b[0m \u001b[1;33m(\u001b[0m \u001b[0mTKI_Principal\u001b[0m \u001b[1;33m,\u001b[0m \u001b[0mbg\u001b[0m \u001b[1;33m=\u001b[0m \u001b[1;34m\"white\"\u001b[0m \u001b[1;33m,\u001b[0m \u001b[0mheight\u001b[0m \u001b[1;33m=\u001b[0m \u001b[1;36m130\u001b[0m \u001b[1;33m,\u001b[0m \u001b[0mwidth\u001b[0m \u001b[1;33m=\u001b[0m \u001b[1;36m220\u001b[0m \u001b[1;33m)\u001b[0m\u001b[1;33m\u001b[0m\u001b[1;33m\u001b[0m\u001b[0m\n",
      "\u001b[1;31mNameError\u001b[0m: name 'tk' is not defined"
     ]
    }
   ],
   "source": [
    "import tkinter\n",
    "\n",
    "TKI_Principal = tkinter.Tk ( ) \n",
    "\n",
    "BUT_Quitter = tkinter.Button ( TKI_Principal , text = \"Quitter\" , command = TKI_Principal.destroy )\n",
    "\n",
    "\n",
    "\n",
    "CAN_Zone = tkinter.Canvas ( TKI_Principal , bg = \"white\" , height = 130 , width = 220 )\n",
    "CAN_Zone_Rose = CAN_Zone.create_line ( 65 , 0 , 65 , 130 , fill = \"pink\" )\n",
    "CAN_Zone_Rouge = CAN_Zone.create_line ( 85 , 10 , 80 , 50 , 135 , 60 , fill = \"red\" )\n",
    "CAN_Zone_Orange = CAN_Zone.create_line ( 150 , 60 , 210 , 30 , 165 , 20 , 185 , 50 ,  fill = \"orange\" )\n",
    "CAN_Zone_Vert = CAN_Zone.create_line ( 10 , 70 , 70 , 120 , width = 5 , arrow = \"first\" , fill = \"green\" )\n",
    "CAN_Zone_Bleu = CAN_Zone.create_line ( 110 , 70 , 140 , 95 , width = 5 , arrow = \"last\" , fill = \"blue\" )\n",
    "CAN_Zone_Jaune = CAN_Zone.create_line ( 150  , 70 , 210 , 120  , width = 5 , arrow = \"both\" , fill = \"brown\" )\n",
    "\n",
    "CAN_Zone.grid ( row = 0 , column = 0 , sticky = \"nesw\" )\n",
    "BUT_Quitter.grid ( row = 1 , column = 0 , sticky = \"nesw\" )\n",
    "\n",
    "TKI_Principal.mainloop ( )"
   ]
  }
 ],
 "metadata": {
  "interpreter": {
   "hash": "49d2c453dfda59dbcd87464713a48b15d9630a5c24693d96d9a423ac18b8a083"
  },
  "kernelspec": {
   "display_name": "Python 3.9.7 64-bit ('l1-python': conda)",
   "language": "python",
   "name": "python3"
  },
  "language_info": {
   "codemirror_mode": {
    "name": "ipython",
    "version": 3
   },
   "file_extension": ".py",
   "mimetype": "text/x-python",
   "name": "python",
   "nbconvert_exporter": "python",
   "pygments_lexer": "ipython3",
   "version": "3.9.7"
  },
  "orig_nbformat": 4
 },
 "nbformat": 4,
 "nbformat_minor": 2
}
